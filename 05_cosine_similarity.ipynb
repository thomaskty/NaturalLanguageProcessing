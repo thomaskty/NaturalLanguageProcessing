{
 "cells": [
  {
   "cell_type": "code",
   "execution_count": 1,
   "id": "67009a5b",
   "metadata": {},
   "outputs": [
    {
     "name": "stdout",
     "output_type": "stream",
     "text": [
      "Cosine Similarity: 0.9746\n"
     ]
    }
   ],
   "source": [
    "def cosine_sim_manual(a, b):\n",
    "    # Step 1: Compute dot product\n",
    "    dot_product = sum([a[i] * b[i] for i in range(len(a))])\n",
    "\n",
    "    # Step 2: Compute norm (magnitude) of each vector\n",
    "    norm_a = sum([a[i] ** 2 for i in range(len(a))]) ** 0.5\n",
    "    norm_b = sum([b[i] ** 2 for i in range(len(b))]) ** 0.5\n",
    "\n",
    "    # Step 3: Compute cosine similarity\n",
    "    return dot_product / (norm_a * norm_b)\n",
    "\n",
    "# Test\n",
    "a = [1, 2, 3]\n",
    "b = [4, 5, 6]\n",
    "\n",
    "similarity = cosine_sim_manual(a, b)\n",
    "print(f\"Cosine Similarity: {similarity:.4f}\")  # Output should be approx 0.9746"
   ]
  },
  {
   "cell_type": "code",
   "execution_count": null,
   "id": "bd0ab3ec",
   "metadata": {},
   "outputs": [],
   "source": []
  }
 ],
 "metadata": {
  "kernelspec": {
   "display_name": "torch",
   "language": "python",
   "name": "python3"
  },
  "language_info": {
   "codemirror_mode": {
    "name": "ipython",
    "version": 3
   },
   "file_extension": ".py",
   "mimetype": "text/x-python",
   "name": "python",
   "nbconvert_exporter": "python",
   "pygments_lexer": "ipython3",
   "version": "3.12.9"
  }
 },
 "nbformat": 4,
 "nbformat_minor": 5
}
